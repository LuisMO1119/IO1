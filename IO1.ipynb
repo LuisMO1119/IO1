{
  "nbformat": 4,
  "nbformat_minor": 0,
  "metadata": {
    "colab": {
      "provenance": [],
      "authorship_tag": "ABX9TyNHDx43vsqhA8PtAzkJDcYd",
      "include_colab_link": true
    },
    "kernelspec": {
      "name": "python3",
      "display_name": "Python 3"
    },
    "language_info": {
      "name": "python"
    }
  },
  "cells": [
    {
      "cell_type": "markdown",
      "metadata": {
        "id": "view-in-github",
        "colab_type": "text"
      },
      "source": [
        "<a href=\"https://colab.research.google.com/github/LuisMO1119/IO1/blob/main/IO1.ipynb\" target=\"_parent\"><img src=\"https://colab.research.google.com/assets/colab-badge.svg\" alt=\"Open In Colab\"/></a>"
      ]
    },
    {
      "cell_type": "code",
      "execution_count": null,
      "metadata": {
        "id": "PglXVrplxiwl"
      },
      "outputs": [],
      "source": []
    },
    {
      "cell_type": "markdown",
      "source": [
        "#Esto es un título\n"
      ],
      "metadata": {
        "id": "YtIwdHh4yN6y"
      }
    },
    {
      "cell_type": "markdown",
      "source": [
        "#Esto es un subtitulo\n",
        "\n"
      ],
      "metadata": {
        "id": "PTWNJd44yX7J"
      }
    },
    {
      "cell_type": "code",
      "source": [
        "print(\"hola, mundo\")"
      ],
      "metadata": {
        "colab": {
          "base_uri": "https://localhost:8080/"
        },
        "id": "1HOpIZYUyv1h",
        "outputId": "5915680c-b4be-4020-a96c-34ec6b2b48e6"
      },
      "execution_count": 6,
      "outputs": [
        {
          "output_type": "stream",
          "name": "stdout",
          "text": [
            "hola, mundo\n"
          ]
        }
      ]
    }
  ]
}